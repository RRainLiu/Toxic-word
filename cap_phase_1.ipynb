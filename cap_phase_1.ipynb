{
 "cells": [
  {
   "cell_type": "code",
   "execution_count": 3,
   "metadata": {},
   "outputs": [],
   "source": [
    "import nltk\n",
    "from nltk.tokenize import word_tokenize\n",
    "from nltk.corpus import stopwords\n",
    "from nltk.stem import PorterStemmer, WordNetLemmatizer\n",
    "import re\n",
    "import numpy as np\n",
    "import pandas as pd\n",
    "import matplotlib.pyplot as plt\n",
    "import seaborn as sns\n",
    "import pandas as pd\n",
    "from sklearn.model_selection import train_test_split\n",
    "from tensorflow.keras.preprocessing.text import Tokenizer\n",
    "from tensorflow.keras.preprocessing.sequence import pad_sequences\n",
    "from tensorflow.keras.models import Sequential\n",
    "from tensorflow.keras.layers import Dense, Embedding, LSTM, Dropout\n",
    "from tensorflow.keras.callbacks import EarlyStopping\n",
    "import tensorflow as tf\n",
    "from tensorflow.keras.layers import Embedding, Dense, Flatten\n",
    "stop_words = set(stopwords.words('english'))\n",
    "stemmer = PorterStemmer()\n",
    "lemmatizer = WordNetLemmatizer()"
   ]
  },
  {
   "attachments": {},
   "cell_type": "markdown",
   "metadata": {},
   "source": [
    "#### For my capstone project, I plan to create a model to classify comments into toxic and non-toxic.\n",
    "\n",
    "\n",
    "#### This dataset came from kaggle and was made by collecting public comments  from the Civil Comments platform. https://www.kaggle.com/competitions/jigsaw-unintended-bias-in-toxicity-classification/data\n",
    "\n",
    "#### The text of the individual comment is found in the comment_text column. Each comment in Train has a toxicity label (target), and models should predict the target toxicity. Target >= 0.5 will be considered to be in the positive class (toxic)."
   ]
  },
  {
   "cell_type": "code",
   "execution_count": 2,
   "metadata": {},
   "outputs": [],
   "source": [
    "#import data\n",
    "data = pd.read_csv('data/train.csv')\n",
    "data = data[['comment_text','target']]\n",
    "data['target'] = np.where(data['target']>0.5,1,0)"
   ]
  },
  {
   "cell_type": "code",
   "execution_count": 3,
   "metadata": {},
   "outputs": [
    {
     "data": {
      "text/plain": [
       "<Axes: ylabel='target'>"
      ]
     },
     "execution_count": 3,
     "metadata": {},
     "output_type": "execute_result"
    },
    {
     "data": {
      "image/png": "[encoded data removed]",
      "text/plain": [
       "<Figure size 640x480 with 1 Axes>"
      ]
     },
     "metadata": {},
     "output_type": "display_data"
    }
   ],
   "source": [
    "# check if the data is balanced\n",
    "data['target'].value_counts().plot.pie(autopct = '%1.1f%%')"
   ]
  },
  {
   "cell_type": "code",
   "execution_count": 4,
   "metadata": {},
   "outputs": [
    {
     "name": "stdout",
     "output_type": "stream",
     "text": [
      "postive_data shape (106438, 2)\n",
      "negative_data shape (1698436, 2)\n"
     ]
    }
   ],
   "source": [
    "# check the number of positive and negative class\n",
    "postive_data = data.query('target == 1')\n",
    "negative_data = data.query('target == 0')\n",
    "print(f'postive_data shape {postive_data.shape}')\n",
    "print(f'negative_data shape {negative_data.shape}')"
   ]
  },
  {
   "cell_type": "code",
   "execution_count": 5,
   "metadata": {},
   "outputs": [
    {
     "data": {
      "text/plain": [
       "(212876, 2)"
      ]
     },
     "execution_count": 5,
     "metadata": {},
     "output_type": "execute_result"
    }
   ],
   "source": [
    "# choose a portion of negative class and create a balanced dataset\n",
    "negative_data_sample = negative_data.sample(frac=postive_data.shape[0]/negative_data.shape[0])\n",
    "\n",
    "\n",
    "train_data = pd.concat([postive_data,negative_data_sample],axis = 0)\n",
    "train_data.shape"
   ]
  },
  {
   "cell_type": "code",
   "execution_count": 6,
   "metadata": {},
   "outputs": [
    {
     "data": {
      "text/plain": [
       "<Axes: ylabel='target'>"
      ]
     },
     "execution_count": 6,
     "metadata": {},
     "output_type": "execute_result"
    },
    {
     "data": {
      "image/png": "[encoded data removed]",
      "text/plain": [
       "<Figure size 640x480 with 1 Axes>"
      ]
     },
     "metadata": {},
     "output_type": "display_data"
    }
   ],
   "source": [
    "# check the balanced data\n",
    "train_data['target'].value_counts().plot.pie(autopct = '%1.1f%%')"
   ]
  },
  {
   "cell_type": "markdown",
   "metadata": {},
   "source": [
    "# Preprocess the data"
   ]
  },
  {
   "cell_type": "code",
   "execution_count": 7,
   "metadata": {},
   "outputs": [],
   "source": [
    "def preprocess_text(text):\n",
    "    # remove unwanted characters\n",
    "    text = re.sub('[^A-Za-z]+', ' ', text)\n",
    "    \n",
    "    # convert to lowercase\n",
    "    text = text.lower()\n",
    "    \n",
    "    # tokenize the text into words\n",
    "    words = word_tokenize(text)\n",
    "    \n",
    "    # remove stopwords\n",
    "    words = [word for word in words if word not in stop_words]\n",
    "    \n",
    "    # stem the words\n",
    "    stemmed_words = [stemmer.stem(word) for word in words]\n",
    "    \n",
    "    # lemmatize the words\n",
    "    lemmatized_words = [lemmatizer.lemmatize(word) for word in stemmed_words]\n",
    "    \n",
    "    # join the words back into a string\n",
    "    text = ' '.join(lemmatized_words)\n",
    "    \n",
    "    return text"
   ]
  },
  {
   "cell_type": "code",
   "execution_count": 8,
   "metadata": {},
   "outputs": [],
   "source": [
    "# preposs the data\n",
    "train_data_t = train_data.sample(frac = 0.1)\n",
    "X = train_data_t['comment_text'].apply(preprocess_text)\n",
    "y = train_data_t['target']"
   ]
  },
  {
   "cell_type": "code",
   "execution_count": 9,
   "metadata": {},
   "outputs": [],
   "source": [
    "from sklearn.feature_extraction.text import TfidfVectorizer\n",
    "train_features,val_features,train_labels,val_labels = train_test_split(X,y,test_size=0.2)\n",
    "\n",
    "# initialize the TfidfVectorizer\n",
    "tfidf_vectorizer = TfidfVectorizer()\n",
    "\n",
    "# fit the TfidfVectorizer on the train data\n",
    "tfidf_vectorizer.fit(train_features)\n",
    "\n",
    "# transform the text in the train and test data into feature vectors\n",
    "train_features = tfidf_vectorizer.transform(train_features)\n",
    "val_features = tfidf_vectorizer.transform(val_features)"
   ]
  },
  {
   "cell_type": "code",
   "execution_count": 10,
   "metadata": {},
   "outputs": [],
   "source": [
    "from sklearn.metrics import accuracy_score, precision_score, recall_score, f1_score\n",
    "# create a function to evaludate the \n",
    "def evaluate(model, val_features, val_labels):\n",
    "    preds = model.predict(val_features)\n",
    "    acc = accuracy_score(val_labels, preds)\n",
    "    prec = precision_score(val_labels, preds)\n",
    "    recall = recall_score(val_labels, preds)\n",
    "    f1 = f1_score(val_labels, preds)\n",
    "    return acc, prec, recall, f1"
   ]
  },
  {
   "attachments": {},
   "cell_type": "markdown",
   "metadata": {},
   "source": [
    "# Train and evaluate logistic regression, naive Bayes, random forest, and SVM models"
   ]
  },
  {
   "cell_type": "code",
   "execution_count": 11,
   "metadata": {},
   "outputs": [],
   "source": [
    "from sklearn.linear_model import LogisticRegression\n",
    "from sklearn.naive_bayes import MultinomialNB\n",
    "from sklearn.ensemble import RandomForestClassifier\n",
    "from sklearn.svm import SVC\n",
    "# Train and evaluate a logistic regression model\n",
    "lr = LogisticRegression()\n",
    "lr.fit(train_features, train_labels)\n",
    "lr_eval = evaluate(lr, val_features, val_labels)\n",
    "\n",
    "# Train and evaluate a Naive Bayes model\n",
    "nb = MultinomialNB()\n",
    "nb.fit(train_features, train_labels)\n",
    "nb_eval = evaluate(nb, val_features, val_labels)\n",
    "\n",
    "# Train and evaluate a random forest model\n",
    "rf = RandomForestClassifier(n_estimators=100)\n",
    "rf.fit(train_features, train_labels)\n",
    "rf_eval = evaluate(rf, val_features, val_labels)\n",
    "\n",
    "# Train and evaluate an SVM model\n",
    "svm = SVC(kernel='linear')\n",
    "svm.fit(train_features, train_labels)\n",
    "svm_eval = evaluate(svm, val_features, val_labels)"
   ]
  },
  {
   "cell_type": "code",
   "execution_count": 12,
   "metadata": {},
   "outputs": [
    {
     "data": {
      "text/html": [
       "<div>\n",
       "<style scoped>\n",
       "    .dataframe tbody tr th:only-of-type {\n",
       "        vertical-align: middle;\n",
       "    }\n",
       "\n",
       "    .dataframe tbody tr th {\n",
       "        vertical-align: top;\n",
       "    }\n",
       "\n",
       "    .dataframe thead th {\n",
       "        text-align: right;\n",
       "    }\n",
       "</style>\n",
       "<table border=\"1\" class=\"dataframe\">\n",
       "  <thead>\n",
       "    <tr style=\"text-align: right;\">\n",
       "      <th></th>\n",
       "      <th>Accuracy</th>\n",
       "      <th>Precision</th>\n",
       "      <th>Recall</th>\n",
       "      <th>F1</th>\n",
       "    </tr>\n",
       "  </thead>\n",
       "  <tbody>\n",
       "    <tr>\n",
       "      <th>Logistic regression</th>\n",
       "      <td>0.847816</td>\n",
       "      <td>0.879004</td>\n",
       "      <td>0.808322</td>\n",
       "      <td>0.842182</td>\n",
       "    </tr>\n",
       "    <tr>\n",
       "      <th>Naive Bayes</th>\n",
       "      <td>0.795914</td>\n",
       "      <td>0.774654</td>\n",
       "      <td>0.837307</td>\n",
       "      <td>0.804763</td>\n",
       "    </tr>\n",
       "    <tr>\n",
       "      <th>Random forest</th>\n",
       "      <td>0.846876</td>\n",
       "      <td>0.863214</td>\n",
       "      <td>0.826087</td>\n",
       "      <td>0.844243</td>\n",
       "    </tr>\n",
       "    <tr>\n",
       "      <th>Svm</th>\n",
       "      <td>0.859558</td>\n",
       "      <td>0.877511</td>\n",
       "      <td>0.837307</td>\n",
       "      <td>0.856938</td>\n",
       "    </tr>\n",
       "  </tbody>\n",
       "</table>\n",
       "</div>"
      ],
      "text/plain": [
       "                     Accuracy  Precision    Recall        F1\n",
       "Logistic regression  0.847816   0.879004  0.808322  0.842182\n",
       "Naive Bayes          0.795914   0.774654  0.837307  0.804763\n",
       "Random forest        0.846876   0.863214  0.826087  0.844243\n",
       "Svm                  0.859558   0.877511  0.837307  0.856938"
      ]
     },
     "execution_count": 12,
     "metadata": {},
     "output_type": "execute_result"
    }
   ],
   "source": [
    "result = pd.DataFrame(np.array([lr_eval,nb_eval,rf_eval,svm_eval]),\n",
    "                      columns=['Accuracy','Precision','Recall','F1'],\n",
    "                      index = ['Logistic regression','Naive Bayes','Random forest','Svm'])\n",
    "result\n"
   ]
  },
  {
   "attachments": {},
   "cell_type": "markdown",
   "metadata": {},
   "source": [
    "# Neural network"
   ]
  },
  {
   "cell_type": "code",
   "execution_count": 13,
   "metadata": {},
   "outputs": [],
   "source": [
    "# preposs the data\n",
    "train_data_n = train_data.sample(frac = 1)\n",
    "X = train_data_n['comment_text'].apply(preprocess_text)\n",
    "y = train_data_n['target']"
   ]
  },
  {
   "cell_type": "code",
   "execution_count": 14,
   "metadata": {},
   "outputs": [
    {
     "name": "stdout",
     "output_type": "stream",
     "text": [
      "mean length 24.01027011156782\n",
      "min length 0\n",
      "max length 304\n"
     ]
    }
   ],
   "source": [
    "from tensorflow.keras.layers import Embedding, Dense, Flatten\n",
    "\n",
    "# split the data into train and validation sets\n",
    "train_text, val_text, train_target, val_target = train_test_split(X,y, test_size=0.2, random_state=42, stratify=y)\n",
    "\n",
    "# tokenize the text and convert it to sequences\n",
    "tokenizer = Tokenizer(num_words=10000)\n",
    "tokenizer.fit_on_texts(train_text)\n",
    "train_seq = tokenizer.texts_to_sequences(train_text)\n",
    "val_seq = tokenizer.texts_to_sequences(val_text)\n",
    "\n",
    "# calculate the averge comment length\n",
    "length = [len(x) for x in train_seq]\n",
    "print('mean length',np.mean(length))\n",
    "print('min length',np.min(length))\n",
    "print('max length',np.max(length))"
   ]
  },
  {
   "cell_type": "code",
   "execution_count": 18,
   "metadata": {},
   "outputs": [],
   "source": [
    " # calculate the accuracy of each class\n",
    "def postive_class(prediction,y_test):\n",
    "    prediction = prediction.reshape(-1,1)\n",
    "    pos_index = y_test == 1\n",
    "    neg_index = y_test == 0\n",
    "    pos_acc = sum(prediction[pos_index])/y_test[pos_index].shape[0]\n",
    "    neg_acc = 1 - sum(prediction[neg_index])/y_test[neg_index].shape[0]\n",
    "    return pos_acc,neg_acc"
   ]
  },
  {
   "cell_type": "code",
   "execution_count": 20,
   "metadata": {},
   "outputs": [
    {
     "name": "stdout",
     "output_type": "stream",
     "text": [
      "Epoch 1/10\n",
      "2661/2661 [==============================] - 5s 2ms/step - loss: 0.3317 - accuracy: 0.8546 - val_loss: 0.2781 - val_accuracy: 0.8855\n",
      "Epoch 2/10\n",
      "2661/2661 [==============================] - 5s 2ms/step - loss: 0.2247 - accuracy: 0.9127 - val_loss: 0.2968 - val_accuracy: 0.8814\n",
      "Epoch 3/10\n",
      "2661/2661 [==============================] - 5s 2ms/step - loss: 0.1425 - accuracy: 0.9473 - val_loss: 0.3803 - val_accuracy: 0.8730\n",
      "positive class accuracy: [0.86480646]\n",
      "negative class accuracy: [0.8811537]\n"
     ]
    }
   ],
   "source": [
    "# pad the sequences so they all have the same length\n",
    "maxlen = 100\n",
    "train_seq = pad_sequences(train_seq, maxlen=maxlen)\n",
    "val_seq = pad_sequences(val_seq, maxlen=maxlen)\n",
    "# create a nueral network model\n",
    "\n",
    "with tf.device('/GPU:0'):\n",
    "    model = Sequential()\n",
    "    model.add(Embedding(input_dim=10000, output_dim=32, input_length=maxlen))\n",
    "    model.add(Flatten())\n",
    "    model.add(Dense(100,activation= 'relu'))\n",
    "    model.add(Dense(1, activation='sigmoid'))\n",
    "\n",
    "    # compile the model \n",
    "    model.compile(loss='binary_crossentropy', optimizer='adam', metrics=['accuracy'])\n",
    "\n",
    "    # set up early stopping to prevent overfitting\n",
    "    early_stopping = EarlyStopping(monitor='val_loss', patience=2)\n",
    "\n",
    "    # train the model\n",
    "    history = model.fit(train_seq, train_target, validation_data=(val_seq, val_target), epochs=10, batch_size=64, verbose = 1,callbacks=[early_stopping])\n",
    "   \n",
    "\n",
    "    prediction = model.predict(val_seq)\n",
    "    prediction = np.where(prediction>0.5,1,0).reshape(-1)\n",
    "    result = postive_class(prediction,val_target)  \n",
    "print(f'positive class accuracy: {result[0]}')\n",
    "print(f'negative class accuracy: {result[1]}')"
   ]
  },
  {
   "attachments": {},
   "cell_type": "markdown",
   "metadata": {},
   "source": [
    "# CNN"
   ]
  },
  {
   "cell_type": "code",
   "execution_count": 21,
   "metadata": {},
   "outputs": [
    {
     "name": "stdout",
     "output_type": "stream",
     "text": [
      "Epoch 1/10\n",
      "2661/2661 [==============================] - 14s 3ms/step - loss: 0.3128 - accuracy: 0.8624 - val_loss: 0.2658 - val_accuracy: 0.8910\n",
      "Epoch 2/10\n",
      "2661/2661 [==============================] - 7s 3ms/step - loss: 0.2443 - accuracy: 0.9018 - val_loss: 0.2652 - val_accuracy: 0.8920\n",
      "Epoch 3/10\n",
      "2661/2661 [==============================] - 7s 3ms/step - loss: 0.2008 - accuracy: 0.9218 - val_loss: 0.2819 - val_accuracy: 0.8866\n",
      "Epoch 4/10\n",
      "2661/2661 [==============================] - 7s 3ms/step - loss: 0.1532 - accuracy: 0.9423 - val_loss: 0.3177 - val_accuracy: 0.8795\n",
      "positive class accuracy: [0.89928598]\n",
      "negative class accuracy: [0.85968621]\n"
     ]
    }
   ],
   "source": [
    "from tensorflow.keras.models import Sequential\n",
    "from tensorflow.keras.layers import Dense, Embedding, Conv1D, GlobalMaxPooling1D, Dropout\n",
    "\n",
    "model = Sequential()\n",
    "model.add(Embedding(input_dim=10000, output_dim=32, input_length=100))\n",
    "model.add(Conv1D(filters=32, kernel_size=5, activation='relu'))\n",
    "model.add(Conv1D(filters=64, kernel_size=5, activation='relu'))\n",
    "model.add(Conv1D(filters=128, kernel_size=5, activation='relu'))\n",
    "model.add(GlobalMaxPooling1D())\n",
    "model.add(Dense(units=64, activation='relu'))\n",
    "model.add(Dense(units=1, activation='sigmoid'))\n",
    "\n",
    "\n",
    "model.compile(loss='binary_crossentropy', optimizer='adam', metrics=['accuracy'])\n",
    "history = model.fit(train_seq, train_target, validation_data=(val_seq, val_target), epochs=10, batch_size=64, verbose = 1,callbacks=[early_stopping])\n",
    "prediction = model.predict(val_seq)\n",
    "prediction = np.where(prediction>0.5,1,0).reshape(-1)\n",
    "result = postive_class(prediction,val_target)  \n",
    "print(f'positive class accuracy: {result[0]}')\n",
    "print(f'negative class accuracy: {result[1]}')"
   ]
  },
  {
   "attachments": {},
   "cell_type": "markdown",
   "metadata": {},
   "source": [
    "# LSTM"
   ]
  },
  {
   "cell_type": "code",
   "execution_count": 23,
   "metadata": {},
   "outputs": [
    {
     "name": "stdout",
     "output_type": "stream",
     "text": [
      "Epoch 1/10\n",
      "2661/2661 [==============================] - 32s 11ms/step - loss: 0.3107 - accuracy: 0.8732 - val_loss: 0.2635 - val_accuracy: 0.8928\n",
      "Epoch 2/10\n",
      "2661/2661 [==============================] - 32s 12ms/step - loss: 0.2561 - accuracy: 0.9008 - val_loss: 0.2590 - val_accuracy: 0.8948\n",
      "Epoch 3/10\n",
      "2661/2661 [==============================] - 33s 12ms/step - loss: 0.2345 - accuracy: 0.9093 - val_loss: 0.2661 - val_accuracy: 0.8924\n",
      "Epoch 4/10\n",
      "2661/2661 [==============================] - 40s 15ms/step - loss: 0.2093 - accuracy: 0.9194 - val_loss: 0.2787 - val_accuracy: 0.8893\n",
      "positive class accuracy: [0.90567456]\n",
      "negative class accuracy: [0.87298008]\n"
     ]
    }
   ],
   "source": [
    "with tf.device('/GPU:0'):\n",
    "    model = Sequential()\n",
    "    model.add(Embedding(input_dim=10000, output_dim=128, input_length=100))\n",
    "    model.add(LSTM(64, dropout=0.2,return_sequences=True))\n",
    "    model.add(LSTM(32, dropout=0.2))\n",
    "    model.add(Dense(32, activation='relu'))\n",
    "    model.add(Dropout(0.5))\n",
    "    model.add(Dense(1, activation='sigmoid'))\n",
    "\n",
    "    # compile the model\n",
    "    model.compile(loss='binary_crossentropy', optimizer='adam', metrics=['accuracy'])\n",
    "\n",
    "    # train the model\n",
    "    history = model.fit(train_seq, train_target, validation_data=(val_seq, val_target), epochs=10, batch_size=64, verbose = 1,callbacks=[early_stopping])\n",
    "\n",
    "prediction = model.predict(val_seq)\n",
    "prediction = np.where(prediction>0.5,1,0).reshape(-1)\n",
    "result = postive_class(prediction,val_target)  \n",
    "print(f'positive class accuracy: {result[0]}')\n",
    "print(f'negative class accuracy: {result[1]}')"
   ]
  },
  {
   "cell_type": "code",
   "execution_count": 4,
   "metadata": {},
   "outputs": [
    {
     "data": {
      "text/html": [
       "<div>\n",
       "<style scoped>\n",
       "    .dataframe tbody tr th:only-of-type {\n",
       "        vertical-align: middle;\n",
       "    }\n",
       "\n",
       "    .dataframe tbody tr th {\n",
       "        vertical-align: top;\n",
       "    }\n",
       "\n",
       "    .dataframe thead th {\n",
       "        text-align: right;\n",
       "    }\n",
       "</style>\n",
       "<table border=\"1\" class=\"dataframe\">\n",
       "  <thead>\n",
       "    <tr style=\"text-align: right;\">\n",
       "      <th></th>\n",
       "      <th>train accuracy</th>\n",
       "      <th>val accuracy</th>\n",
       "      <th>postive class</th>\n",
       "      <th>negative_class</th>\n",
       "    </tr>\n",
       "  </thead>\n",
       "  <tbody>\n",
       "    <tr>\n",
       "      <th>Neural network</th>\n",
       "      <td>0.9470</td>\n",
       "      <td>0.8730</td>\n",
       "      <td>0.8648</td>\n",
       "      <td>0.8811</td>\n",
       "    </tr>\n",
       "    <tr>\n",
       "      <th>CNN</th>\n",
       "      <td>0.9423</td>\n",
       "      <td>0.8795</td>\n",
       "      <td>0.8992</td>\n",
       "      <td>0.8596</td>\n",
       "    </tr>\n",
       "    <tr>\n",
       "      <th>LSTM</th>\n",
       "      <td>0.9194</td>\n",
       "      <td>0.8893</td>\n",
       "      <td>0.9056</td>\n",
       "      <td>0.8729</td>\n",
       "    </tr>\n",
       "  </tbody>\n",
       "</table>\n",
       "</div>"
      ],
      "text/plain": [
       "                train accuracy  val accuracy  postive class  negative_class\n",
       "Neural network          0.9470        0.8730         0.8648          0.8811\n",
       "CNN                     0.9423        0.8795         0.8992          0.8596\n",
       "LSTM                    0.9194        0.8893         0.9056          0.8729"
      ]
     },
     "execution_count": 4,
     "metadata": {},
     "output_type": "execute_result"
    }
   ],
   "source": [
    "train_acc = [0.947,0.9423,0.9194]\n",
    "val_acc = [0.8730,0.8795,0.8893]\n",
    "postive_val = [0.8648,0.8992,0.9056]\n",
    "negative_val = [0.8811,0.8596,0.8729]\n",
    "result_nn = pd.DataFrame({'train accuracy':train_acc,'val accuracy':val_acc,'postive class':postive_val,'negative_class':negative_val},index = ['Neural network','CNN','LSTM'])\n",
    "result_nn"
   ]
  },
  {
   "cell_type": "code",
   "execution_count": 10,
   "metadata": {},
   "outputs": [
    {
     "data": {
      "text/plain": [
       "<Axes: ylabel='accuracy'>"
      ]
     },
     "execution_count": 10,
     "metadata": {},
     "output_type": "execute_result"
    },
    {
     "data": {
      "image/png": "[encoded data removed]",
      "text/plain": [
       "<Figure size 640x480 with 1 Axes>"
      ]
     },
     "metadata": {},
     "output_type": "display_data"
    }
   ],
   "source": [
    "result_nn.plot(ylabel='accuracy')"
   ]
  },
  {
   "cell_type": "code",
   "execution_count": null,
   "metadata": {},
   "outputs": [],
   "source": []
  }
 ],
 "metadata": {
  "kernelspec": {
   "display_name": "tf-gpu",
   "language": "python",
   "name": "python3"
  },
  "language_info": {
   "codemirror_mode": {
    "name": "ipython",
    "version": 3
   },
   "file_extension": ".py",
   "mimetype": "text/x-python",
   "name": "python",
   "nbconvert_exporter": "python",
   "pygments_lexer": "ipython3",
   "version": "3.9.16"
  },
  "orig_nbformat": 4
 },
 "nbformat": 4,
 "nbformat_minor": 2
}
